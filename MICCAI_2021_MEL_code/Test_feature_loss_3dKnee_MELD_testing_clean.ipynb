{
 "cells": [
  {
   "cell_type": "code",
   "execution_count": 14,
   "metadata": {},
   "outputs": [
    {
     "name": "stdout",
     "output_type": "stream",
     "text": [
      "The autoreload extension is already loaded. To reload it, use:\n",
      "  %reload_ext autoreload\n"
     ]
    }
   ],
   "source": [
    "%matplotlib notebook\n",
    "import sigpy.plot as pl\n",
    "from skimage import data, img_as_float\n",
    "from skimage.metrics import structural_similarity as ssim\n",
    "import numpy as np\n",
    "import torch\n",
    "import torch.backends.cudnn as cudnn\n",
    "import torch.nn as nn\n",
    "import torch.nn.functional as F\n",
    "from torch import optim\n",
    "import scipy.io\n",
    "from torch.autograd import Variable\n",
    "# import UFNet\n",
    "import os\n",
    "# import bart\n",
    "from torch import optim\n",
    "import torch_utils as flare\n",
    "import resnet\n",
    "# import bart\n",
    "import sigpy as sp\n",
    "import matplotlib.pyplot as plt\n",
    "# from skimage.measure import compare_ssim\n",
    "import unet.unet_model as UN\n",
    "import os\n",
    "from modl_model import MoDL_model,UnrolledNetwork,CG_adj_3D\n",
    "from pytorch3dunet.unet3d.model import UNet3D\n",
    "os.environ[\"CUDA_DEVICE_ORDER\"]=\"PCI_BUS_ID\"   # see issue #152\n",
    "os.environ[\"CUDA_VISIBLE_DEVICES\"]=\"5\"\n",
    "# import \n",
    "# device = torch.device('cpu')\n",
    "device = torch.device('cuda:0')\n",
    "%load_ext autoreload\n",
    "%autoreload 2"
   ]
  },
  {
   "cell_type": "markdown",
   "metadata": {},
   "source": [
    "# Defined function"
   ]
  },
  {
   "cell_type": "code",
   "execution_count": 2,
   "metadata": {},
   "outputs": [],
   "source": [
    "def load_slab(folder,case,center,slices):\n",
    "    start = center - int(slices/2)\n",
    "    for j in range(slices):\n",
    "        if j == 0:\n",
    "            knee_ksp = np.load(\"/home/kewang/cube_knee/%s_ksp_slices/%d_%d.npy\"%(folder,case,start))[None,...]\n",
    "            knee_im = np.load(\"/home/kewang/cube_knee/%s_img_slices/%d_%d.npy\"%(folder,case,start))[None,...]\n",
    "            knee_mps = np.load(\"/home/kewang/cube_knee/%s_mps_slices/%d_%d.npy\"%(folder,case,start))[None,...]\n",
    "            knee_masks = np.load(\"/home/kewang/cube_knee/%s_mask_slices/%d_%d.npy\"%(folder,case,start))[None,None,...]\n",
    "        else:\n",
    "            knee_ksp = np.concatenate((knee_ksp,np.load(\"/home/kewang/cube_knee/%s_ksp_slices/%d_%d.npy\"%(folder,case,start+j))[None,...]))\n",
    "            knee_im = np.concatenate((knee_im,np.load(\"/home/kewang/cube_knee/%s_img_slices/%d_%d.npy\"%(folder,case,start+j))[None,...]))\n",
    "            knee_mps = np.concatenate((knee_mps,np.load(\"/home/kewang/cube_knee/%s_mps_slices/%d_%d.npy\"%(folder,case,start+j))[None,...]))\n",
    "            knee_masks = np.concatenate((knee_masks,np.load(\"/home/kewang/cube_knee/%s_mask_slices/%d_%d.npy\"%(folder,case,start+j))[None,None,...]))\n",
    "    return  knee_ksp,knee_im,knee_mps,knee_masks\n",
    "def bart_valid(knee_ksp,knee_mps,knee_masks):\n",
    "    ksp_under = (knee_ksp*knee_masks).transpose((1,2,0))[None,...]\n",
    "    ksp_mps = knee_mps.transpose((1,2,0))[None,...]\n",
    "    return bart.bart(1,\"pics -l1 -r 0.02 -S\",ksp_under,ksp_mps)\n",
    "def CG_adj(ksp,mps,mask):\n",
    "    SenseModel = flare.SenseModel(mps,mask) \n",
    "    adj = SenseModel.adjoint(ksp)\n",
    "    return SenseModel,adj\n",
    "def CG_adj_3D(ksp,mps,mask):\n",
    "    SenseModel = flare.SenseModel_3D(mps,mask) \n",
    "    adj = SenseModel.adjoint(ksp)\n",
    "    return SenseModel,adj\n",
    "def CG_MoDL_3D(ksp,mps,mask,lam = 0):\n",
    "    SenseModel = flare.SenseModel_3D(mps,mask)    \n",
    "    adj = SenseModel.adjoint(ksp)\n",
    "    CG_alg = flare.ConjGrad(Aop_fun=SenseModel.normal,b=adj,verbose=False,l2lam=lam)\n",
    "    return CG_alg.forward(adj)\n",
    "def CG_MoDL(ksp,mps,mask,lam = 0):\n",
    "    SenseModel = flare.SenseModel(mps,mask)    \n",
    "    adj = SenseModel.adjoint(ksp)\n",
    "    CG_alg = flare.ConjGrad(Aop_fun=SenseModel.normal,b=adj,verbose=False,l2lam=lam)\n",
    "    return CG_alg.forward(adj)\n",
    "def load_data(folder,dir_data,dev,flag=0,mask=False):\n",
    "    knee_ksp = np.load(\"/mikRAID/frank/data/cube_knees/%s_ksp_slices/%s\"%(folder,dir_data))\n",
    "    knee_im = np.load(\"/mikRAID/frank/data/cube_knees/%s_img_slices/%s\"%(folder,dir_data))[None,...]\n",
    "    knee_mps = np.load(\"/mikRAID/frank/data/cube_knees/%s_mps_slices/%s\"%(folder,dir_data))\n",
    "    knee_masks = np.load(\"/mikRAID/frank/data/cube_knees/%s_mask_slices/%s\"%(folder,dir_data))[None,...]\n",
    "    if flag:\n",
    "        knee_masks = mask\n",
    "    knee_ksp = bart.bart(1,\"fftmod 6\",knee_ksp)\n",
    "    knee_mps = bart.bart(1,\"fftmod 6\",knee_mps)\n",
    "    ksp_under = (knee_ksp*knee_masks)[None,...]\n",
    "    knee_mps = knee_mps[None,...]\n",
    "    im_torch = flare.np2torch(knee_im)\n",
    "    ksp_torch = flare.np2torch(ksp_under)\n",
    "    mps_torch = flare.np2torch(knee_mps)\n",
    "    mask_torch = flare.np2torch(abs(knee_masks),data_complex=False)\n",
    "    return ksp_torch.to(dev),mps_torch.to(dev),mask_torch.to(dev),im_torch.to(dev)\n",
    "class MoDL_3D(nn.Module):\n",
    "    def __init__(self,M=None,A = None,lam_l2 = 0,unroll = 3,cg_max = 10):\n",
    "        super(MoDL_3D, self).__init__()\n",
    "        self.Model = M\n",
    "        self.A = A\n",
    "        self.lam2 = lam_l2\n",
    "        self.urnum = unroll\n",
    "        self.cg = cg_max\n",
    "\n",
    "    def forward(self, adj):\n",
    "        out = adj\n",
    "#         print(out.shape)\n",
    "        for i in range(self.urnum):\n",
    "            print(i)\n",
    "            out = self.Model(out).squeeze(0).permute(1,2,3,0)\n",
    "#             out1 = out\n",
    "#             print(adj.shape)\n",
    "#             print(out.shape)\n",
    "#             print(out.shape)\n",
    "#             print(adj.squeeze(0).permute(1,2,3,0).shape)\n",
    "            rhs = adj.squeeze(0).permute(1,2,3,0) + self.lam2 * out\n",
    "            CG_alg = flare.ConjGrad(Aop_fun=self.A.normal,b=rhs,verbose=False,l2lam=self.lam2,max_iter=self.cg)\n",
    "            out = CG_alg.forward(rhs).permute(3,0,1,2).unsqueeze(0)\n",
    "#             print(out.shape)\n",
    "        return out"
   ]
  },
  {
   "cell_type": "code",
   "execution_count": 3,
   "metadata": {},
   "outputs": [],
   "source": [
    "def nmrse(x,gt):\n",
    "    return np.linalg.norm(x-gt)/np.linalg.norm(gt)\n",
    "def psnr(x,gt):\n",
    "    mse = np.linalg.norm(x-gt)**2/(x.shape[0]*x.shape[1])\n",
    "#     print(mse)\n",
    "    return 20 * np.log10(abs(gt).max()/np.sqrt(mse)) "
   ]
  },
  {
   "cell_type": "markdown",
   "metadata": {},
   "source": [
    "# Perform Testing"
   ]
  },
  {
   "cell_type": "code",
   "execution_count": 4,
   "metadata": {},
   "outputs": [],
   "source": [
    "# Hyper parameters of the training\n",
    "folder = \"test\"\n",
    "case = 20\n",
    "slices = 21\n",
    "metadata = {'num_unrolls': 4, 'lamb': 5e-2,'cg':8}\n",
    "Loss = nn.L1Loss()\n"
   ]
  },
  {
   "cell_type": "code",
   "execution_count": 5,
   "metadata": {},
   "outputs": [
    {
     "data": {
      "text/plain": [
       "<All keys matched successfully>"
      ]
     },
     "execution_count": 5,
     "metadata": {},
     "output_type": "execute_result"
    }
   ],
   "source": [
    "modl_network = MoDL_model(metadata,device=device)\n",
    "modl_network.network.load_state_dict((torch.load(\"/home/kewang/3D_DIR_results/checkpoints_0520/cp_unroll_sl6_4_cg_8_MELD_epochs_23.pth\", map_location=device)))"
   ]
  },
  {
   "cell_type": "code",
   "execution_count": 7,
   "metadata": {},
   "outputs": [],
   "source": [
    "with torch.no_grad():\n",
    "    knee_ksp,knee_im,knee_mps,knee_masks = load_slab(folder,case,180,slices)\n",
    "    im_torch = flare.np2torch(knee_im).to(device).permute(3,0,1,2).unsqueeze(0)\n",
    "    ksp_under = (knee_ksp*knee_masks)\n",
    "    ksp_torch = flare.np2torch(ksp_under).to(device)\n",
    "    mps_torch = flare.np2torch(knee_mps).to(device)\n",
    "    mask_torch = flare.np2torch(abs(knee_masks),data_complex=False).to(device)\n",
    "    Sense,adj = CG_adj_3D(ksp_torch,mps_torch,mask_torch)\n",
    "    modl_network.initialize(Sense,adj)\n",
    "    out = modl_network.forward(adj)"
   ]
  },
  {
   "cell_type": "code",
   "execution_count": 21,
   "metadata": {},
   "outputs": [
    {
     "name": "stdout",
     "output_type": "stream",
     "text": [
      "10\n",
      "31\n",
      "52\n",
      "73\n",
      "94\n",
      "115\n",
      "136\n",
      "157\n",
      "178\n",
      "199\n",
      "220\n",
      "241\n",
      "262\n",
      "283\n",
      "304\n"
     ]
    }
   ],
   "source": [
    "with torch.no_grad():\n",
    "    for center in range(10,305,21):\n",
    "        print(center)\n",
    "        knee_ksp,knee_im,knee_mps,knee_masks = load_slab(folder,case,center,slices)\n",
    "        im_torch = flare.np2torch(knee_im).to(device).permute(3,0,1,2).unsqueeze(0)\n",
    "        ksp_under = (knee_ksp*knee_masks)\n",
    "        ksp_torch = flare.np2torch(ksp_under).to(device)\n",
    "        mps_torch = flare.np2torch(knee_mps).to(device)\n",
    "        mask_torch = flare.np2torch(abs(knee_masks),data_complex=False).to(device)\n",
    "        Sense,adj = CG_adj_3D(ksp_torch,mps_torch,mask_torch)\n",
    "#         adj_input = adj.permute(3,0,1,2).unsqueeze(0)\n",
    "        modl_network.initialize(Sense,adj)\n",
    "        out = modl_network.forward(adj)\n",
    "        if center == 10:\n",
    "            im_all_3ddir = flare.torch2np(out[0,...].permute(1,2,3,0))\n",
    "        else:\n",
    "            im_all_3ddir = np.concatenate((im_all_3ddir,flare.torch2np(out[0,...].permute(1,2,3,0))))\n",
    "    center = 309\n",
    "    knee_ksp,knee_im,knee_mps,knee_masks = load_slab(folder,case,center,slices)\n",
    "    im_torch = flare.np2torch(knee_im).to(device).permute(3,0,1,2).unsqueeze(0)\n",
    "    ksp_under = (knee_ksp*knee_masks)\n",
    "    ksp_torch = flare.np2torch(ksp_under).to(device)\n",
    "    mps_torch = flare.np2torch(knee_mps).to(device)\n",
    "    mask_torch = flare.np2torch(abs(knee_masks),data_complex=False).to(device)\n",
    "    Sense,adj = CG_adj_3D(ksp_torch,mps_torch,mask_torch)\n",
    "    modl_network.initialize(Sense,adj)\n",
    "    out = modl_network.forward(adj)\n",
    "    im_temp = flare.torch2np(out[0,...].permute(1,2,3,0))[-5:,...]\n",
    "    im_all_3ddir = np.concatenate((im_all_3ddir,im_temp))"
   ]
  }
 ],
 "metadata": {
  "kernelspec": {
   "display_name": "Python 3",
   "language": "python",
   "name": "python3"
  },
  "language_info": {
   "codemirror_mode": {
    "name": "ipython",
    "version": 3
   },
   "file_extension": ".py",
   "mimetype": "text/x-python",
   "name": "python",
   "nbconvert_exporter": "python",
   "pygments_lexer": "ipython3",
   "version": "3.7.4"
  }
 },
 "nbformat": 4,
 "nbformat_minor": 2
}
